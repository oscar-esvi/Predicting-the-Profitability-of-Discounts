{
 "cells": [
  {
   "cell_type": "code",
   "execution_count": 1,
   "id": "7e241f03-2aca-41b1-a2ee-428481c0f63f",
   "metadata": {},
   "outputs": [],
   "source": [
    "import pandas as pd\n",
    "import numpy as np\n",
    "import seaborn as sns\n",
    "sns.set()\n",
    "import statsmodels.api as sm\n",
    "import statsmodels.formula.api as smf\n",
    "import matplotlib.pyplot as plt\n",
    "pd.options.mode.chained_assignment = None\n",
    "from sklearn.model_selection import train_test_split\n",
    "from sklearn import metrics\n",
    "from sklearn import preprocessing\n",
    "from sklearn import utils\n",
    "from sklearn.linear_model import LogisticRegression\n",
    "from sklearn.model_selection import cross_val_score\n",
    "from sklearn.linear_model import LinearRegression\n",
    "import lightgbm as lgb\n",
    "pd.options.mode.chained_assignment = None\n",
    "from sklearn import linear_model\n",
    "from scipy.stats import norm\n",
    "from sklearn.ensemble import RandomForestClassifier\n",
    "from sklearn.preprocessing import LabelEncoder\n",
    "import statistics"
   ]
  },
  {
   "cell_type": "code",
   "execution_count": 2,
   "id": "2a33c4a9-d261-401a-adad-53fd1ff847e6",
   "metadata": {},
   "outputs": [],
   "source": [
    "train = pd.read_csv(\"../data/raw/non_rand_discount.csv\",sep=\";\")\n",
    "test = pd.read_csv(\"../data/raw/random_data.csv\")"
   ]
  },
  {
   "cell_type": "code",
   "execution_count": 3,
   "id": "7efab48c-0fe4-4c54-bd1c-a0afee66c12a",
   "metadata": {},
   "outputs": [],
   "source": [
    "# train = train.sample(frac=1)\n",
    "# test = test.sample(frac=1)"
   ]
  },
  {
   "cell_type": "code",
   "execution_count": 4,
   "id": "321f7a35-8814-4e10-b18b-faf2c84a0d3f",
   "metadata": {},
   "outputs": [],
   "source": [
    "# defining a function that replaces US$ for nothing in order to get rid of the non-numerical values\n",
    "def remove_symbols(discount):\n",
    "  return float(discount.replace('US$ ', '')) "
   ]
  },
  {
   "cell_type": "code",
   "execution_count": 5,
   "id": "c6e9adfe-c6b7-4811-99aa-69857493fecc",
   "metadata": {},
   "outputs": [],
   "source": [
    "train.discount = train.discount.apply(remove_symbols)"
   ]
  },
  {
   "cell_type": "code",
   "execution_count": 6,
   "id": "c455ff43-3391-48c5-9a9a-9879db438ade",
   "metadata": {},
   "outputs": [
    {
     "data": {
      "text/html": [
       "<div>\n",
       "<style scoped>\n",
       "    .dataframe tbody tr th:only-of-type {\n",
       "        vertical-align: middle;\n",
       "    }\n",
       "\n",
       "    .dataframe tbody tr th {\n",
       "        vertical-align: top;\n",
       "    }\n",
       "\n",
       "    .dataframe thead th {\n",
       "        text-align: right;\n",
       "    }\n",
       "</style>\n",
       "<table border=\"1\" class=\"dataframe\">\n",
       "  <thead>\n",
       "    <tr style=\"text-align: right;\">\n",
       "      <th></th>\n",
       "      <th>sales</th>\n",
       "      <th>discount</th>\n",
       "      <th>profit</th>\n",
       "      <th>age</th>\n",
       "      <th>cust_state</th>\n",
       "      <th>tenure</th>\n",
       "      <th>sales_prediction_bins</th>\n",
       "      <th>sales_prediction</th>\n",
       "    </tr>\n",
       "  </thead>\n",
       "  <tbody>\n",
       "    <tr>\n",
       "      <th>0</th>\n",
       "      <td>3368.64</td>\n",
       "      <td>125.0</td>\n",
       "      <td>40.06</td>\n",
       "      <td>40</td>\n",
       "      <td>MA</td>\n",
       "      <td>6</td>\n",
       "      <td>8</td>\n",
       "      <td>1351.024765</td>\n",
       "    </tr>\n",
       "    <tr>\n",
       "      <th>1</th>\n",
       "      <td>2133.10</td>\n",
       "      <td>75.0</td>\n",
       "      <td>29.52</td>\n",
       "      <td>36</td>\n",
       "      <td>MG</td>\n",
       "      <td>10</td>\n",
       "      <td>4</td>\n",
       "      <td>1035.580387</td>\n",
       "    </tr>\n",
       "    <tr>\n",
       "      <th>2</th>\n",
       "      <td>2001.62</td>\n",
       "      <td>50.0</td>\n",
       "      <td>48.08</td>\n",
       "      <td>34</td>\n",
       "      <td>RJ</td>\n",
       "      <td>7</td>\n",
       "      <td>3</td>\n",
       "      <td>992.401825</td>\n",
       "    </tr>\n",
       "    <tr>\n",
       "      <th>3</th>\n",
       "      <td>1461.96</td>\n",
       "      <td>10.0</td>\n",
       "      <td>61.64</td>\n",
       "      <td>31</td>\n",
       "      <td>BA</td>\n",
       "      <td>7</td>\n",
       "      <td>1</td>\n",
       "      <td>919.720735</td>\n",
       "    </tr>\n",
       "    <tr>\n",
       "      <th>4</th>\n",
       "      <td>2743.72</td>\n",
       "      <td>100.0</td>\n",
       "      <td>34.44</td>\n",
       "      <td>32</td>\n",
       "      <td>PB</td>\n",
       "      <td>6</td>\n",
       "      <td>6</td>\n",
       "      <td>1176.485681</td>\n",
       "    </tr>\n",
       "  </tbody>\n",
       "</table>\n",
       "</div>"
      ],
      "text/plain": [
       "     sales  discount  profit  age cust_state  tenure  sales_prediction_bins  \\\n",
       "0  3368.64     125.0   40.06   40         MA       6                      8   \n",
       "1  2133.10      75.0   29.52   36         MG      10                      4   \n",
       "2  2001.62      50.0   48.08   34         RJ       7                      3   \n",
       "3  1461.96      10.0   61.64   31         BA       7                      1   \n",
       "4  2743.72     100.0   34.44   32         PB       6                      6   \n",
       "\n",
       "   sales_prediction  \n",
       "0       1351.024765  \n",
       "1       1035.580387  \n",
       "2        992.401825  \n",
       "3        919.720735  \n",
       "4       1176.485681  "
      ]
     },
     "execution_count": 6,
     "metadata": {},
     "output_type": "execute_result"
    }
   ],
   "source": [
    "train_two = train[['sales','discount','profit','age','cust_state','tenure','sales_prediction_bins','sales_prediction']]\n",
    "train_two.head()"
   ]
  },
  {
   "cell_type": "code",
   "execution_count": 7,
   "id": "8aa4ddba-da18-4914-983e-e2a0d5a46479",
   "metadata": {},
   "outputs": [
    {
     "data": {
      "image/png": "[encoded data removed]",
      "text/plain": [
       "<Figure size 864x576 with 1 Axes>"
      ]
     },
     "metadata": {
      "needs_background": "light"
     },
     "output_type": "display_data"
    }
   ],
   "source": [
    "# relationship between discount and profit for the train df\n",
    "plt.figure(figsize=(12,8))\n",
    "sns.scatterplot(x=\"profit\", y=\"discount\",data=train)\n",
    "plt.ylabel('Discount,%')\n",
    "plt.xlabel('Profit,$')\n",
    "plt.title('Relationship between Discount and Profit')\n",
    "plt.show()"
   ]
  },
  {
   "cell_type": "code",
   "execution_count": 8,
   "id": "309c1f27-8d52-424c-9c5f-88ccd29f6ec5",
   "metadata": {},
   "outputs": [
    {
     "data": {
      "image/png": "[encoded data removed]",
      "text/plain": [
       "<Figure size 864x576 with 1 Axes>"
      ]
     },
     "metadata": {
      "needs_background": "light"
     },
     "output_type": "display_data"
    }
   ],
   "source": [
    "# relationship between discount and profit for the test df\n",
    "plt.figure(figsize=(12,8))\n",
    "sns.scatterplot(x=\"profit\", y=\"discount\",data=test)\n",
    "plt.ylabel('Discount,%')\n",
    "plt.xlabel('Profit,$')\n",
    "plt.title('Relationship between Discount and Profit')\n",
    "plt.show()"
   ]
  },
  {
   "cell_type": "code",
   "execution_count": 9,
   "id": "6a407839-9a43-4c71-9539-2a00ec9d735b",
   "metadata": {},
   "outputs": [],
   "source": [
    "# define elast function\n",
    "def elast(T,Y):\n",
    "  return (np.cov(T,Y, bias=True)[0][1]/np.var(T)) "
   ]
  },
  {
   "cell_type": "code",
   "execution_count": 10,
   "id": "c3cf72d7-f74c-42d2-aa6e-ae1010b11b88",
   "metadata": {},
   "outputs": [
    {
     "data": {
      "text/plain": [
       "19.286765416028743"
      ]
     },
     "execution_count": 10,
     "metadata": {},
     "output_type": "execute_result"
    }
   ],
   "source": [
    "elast(test['discount'],test['sales'])"
   ]
  },
  {
   "cell_type": "code",
   "execution_count": 11,
   "id": "fd7b7fff-88ab-4a4b-815b-7e7be3d2d699",
   "metadata": {},
   "outputs": [
    {
     "data": {
      "text/plain": [
       "21.92480631346758"
      ]
     },
     "execution_count": 11,
     "metadata": {},
     "output_type": "execute_result"
    }
   ],
   "source": [
    "elast(train['discount'],train['sales'])"
   ]
  },
  {
   "cell_type": "code",
   "execution_count": 12,
   "id": "e77f315f-046f-46bc-b76d-c8f848cba86a",
   "metadata": {},
   "outputs": [
    {
     "data": {
      "text/plain": [
       "-0.03566112670736016"
      ]
     },
     "execution_count": 12,
     "metadata": {},
     "output_type": "execute_result"
    }
   ],
   "source": [
    "elast(test['discount'],test['profit'])"
   ]
  },
  {
   "cell_type": "code",
   "execution_count": 13,
   "id": "66a4d0e0-2712-475e-b536-6f24f10a2a8c",
   "metadata": {},
   "outputs": [
    {
     "data": {
      "text/plain": [
       "0.07431475005627182"
      ]
     },
     "execution_count": 13,
     "metadata": {},
     "output_type": "execute_result"
    }
   ],
   "source": [
    "elast(train['discount'],train['profit'])"
   ]
  },
  {
   "cell_type": "code",
   "execution_count": 14,
   "id": "c6b78fe0-506f-4092-8ce2-d78c936d7d17",
   "metadata": {},
   "outputs": [
    {
     "name": "stdout",
     "output_type": "stream",
     "text": [
      "                            OLS Regression Results                            \n",
      "==============================================================================\n",
      "Dep. Variable:               discount   R-squared:                       0.020\n",
      "Model:                            OLS   Adj. R-squared:                  0.020\n",
      "Method:                 Least Squares   F-statistic:                     303.4\n",
      "Date:                Sun, 24 Jul 2022   Prob (F-statistic):           2.71e-67\n",
      "Time:                        17:39:35   Log-Likelihood:                -77982.\n",
      "No. Observations:               15000   AIC:                         1.560e+05\n",
      "Df Residuals:                   14998   BIC:                         1.560e+05\n",
      "Df Model:                           1                                         \n",
      "Covariance Type:            nonrobust                                         \n",
      "==============================================================================\n",
      "                 coef    std err          t      P>|t|      [0.025      0.975]\n",
      "------------------------------------------------------------------------------\n",
      "Intercept     65.7031      0.779     84.303      0.000      64.175      67.231\n",
      "profit         0.2668      0.015     17.419      0.000       0.237       0.297\n",
      "==============================================================================\n",
      "Omnibus:                     3671.789   Durbin-Watson:                   1.984\n",
      "Prob(Omnibus):                  0.000   Jarque-Bera (JB):              642.703\n",
      "Skew:                          -0.030   Prob(JB):                    2.75e-140\n",
      "Kurtosis:                       1.988   Cond. No.                         111.\n",
      "==============================================================================\n",
      "\n",
      "Notes:\n",
      "[1] Standard Errors assume that the covariance matrix of the errors is correctly specified.\n"
     ]
    }
   ],
   "source": [
    "# regression of profits on discount\n",
    "mod = smf.ols(formula='discount ~ profit', data=train)\n",
    "res = mod.fit()\n",
    "print(res.summary())"
   ]
  },
  {
   "cell_type": "code",
   "execution_count": 15,
   "id": "f0f6a604-8942-45c5-b5f4-31464768ef34",
   "metadata": {},
   "outputs": [
    {
     "name": "stdout",
     "output_type": "stream",
     "text": [
      "                            OLS Regression Results                            \n",
      "==============================================================================\n",
      "Dep. Variable:               discount   R-squared:                       0.007\n",
      "Model:                            OLS   Adj. R-squared:                  0.007\n",
      "Method:                 Least Squares   F-statistic:                     36.70\n",
      "Date:                Sun, 24 Jul 2022   Prob (F-statistic):           1.48e-09\n",
      "Time:                        17:39:35   Log-Likelihood:                -26502.\n",
      "No. Observations:                5000   AIC:                         5.301e+04\n",
      "Df Residuals:                    4998   BIC:                         5.302e+04\n",
      "Df Model:                           1                                         \n",
      "Covariance Type:            nonrobust                                         \n",
      "==============================================================================\n",
      "                 coef    std err          t      P>|t|      [0.025      0.975]\n",
      "------------------------------------------------------------------------------\n",
      "Intercept     55.0139      1.813     30.351      0.000      51.460      58.567\n",
      "profit        -0.2044      0.034     -6.058      0.000      -0.271      -0.138\n",
      "==============================================================================\n",
      "Omnibus:                     2005.554   Durbin-Watson:                   2.033\n",
      "Prob(Omnibus):                  0.000   Jarque-Bera (JB):             8661.849\n",
      "Skew:                           1.951   Prob(JB):                         0.00\n",
      "Kurtosis:                       8.133   Cond. No.                         142.\n",
      "==============================================================================\n",
      "\n",
      "Notes:\n",
      "[1] Standard Errors assume that the covariance matrix of the errors is correctly specified.\n"
     ]
    }
   ],
   "source": [
    "# regression of profit on discount\n",
    "mod = smf.ols(formula='discount ~ profit', data=test)\n",
    "res = mod.fit()\n",
    "print(res.summary())"
   ]
  },
  {
   "cell_type": "code",
   "execution_count": 16,
   "id": "40b31b07-c1d1-4ee4-8c1d-6659e90ce570",
   "metadata": {},
   "outputs": [
    {
     "data": {
      "text/html": [
       "<div>\n",
       "<style scoped>\n",
       "    .dataframe tbody tr th:only-of-type {\n",
       "        vertical-align: middle;\n",
       "    }\n",
       "\n",
       "    .dataframe tbody tr th {\n",
       "        vertical-align: top;\n",
       "    }\n",
       "\n",
       "    .dataframe thead th {\n",
       "        text-align: right;\n",
       "    }\n",
       "</style>\n",
       "<table border=\"1\" class=\"dataframe\">\n",
       "  <thead>\n",
       "    <tr style=\"text-align: right;\">\n",
       "      <th></th>\n",
       "      <th>spend_1m_baby</th>\n",
       "      <th>spend_2m_baby</th>\n",
       "      <th>spend_3m_baby</th>\n",
       "      <th>spend_4m_baby</th>\n",
       "      <th>spend_5m_baby</th>\n",
       "      <th>spend_6m_baby</th>\n",
       "      <th>spend_1m_clothes</th>\n",
       "      <th>spend_2m_clothes</th>\n",
       "      <th>spend_3m_clothes</th>\n",
       "      <th>spend_4m_clothes</th>\n",
       "      <th>...</th>\n",
       "      <th>spend_6m_eletronic</th>\n",
       "      <th>sales</th>\n",
       "      <th>discount</th>\n",
       "      <th>profit</th>\n",
       "      <th>age</th>\n",
       "      <th>gender</th>\n",
       "      <th>cust_state</th>\n",
       "      <th>tenure</th>\n",
       "      <th>sales_prediction_bins</th>\n",
       "      <th>sales_prediction</th>\n",
       "    </tr>\n",
       "  </thead>\n",
       "  <tbody>\n",
       "    <tr>\n",
       "      <th>0</th>\n",
       "      <td>0</td>\n",
       "      <td>0</td>\n",
       "      <td>0</td>\n",
       "      <td>0</td>\n",
       "      <td>0</td>\n",
       "      <td>0.0</td>\n",
       "      <td>0</td>\n",
       "      <td>0.0</td>\n",
       "      <td>0.0</td>\n",
       "      <td>0.0</td>\n",
       "      <td>...</td>\n",
       "      <td>0.0</td>\n",
       "      <td>3368.64</td>\n",
       "      <td>125.0</td>\n",
       "      <td>40.06</td>\n",
       "      <td>40</td>\n",
       "      <td>1.0</td>\n",
       "      <td>MA</td>\n",
       "      <td>6</td>\n",
       "      <td>8</td>\n",
       "      <td>1351.024765</td>\n",
       "    </tr>\n",
       "    <tr>\n",
       "      <th>1</th>\n",
       "      <td>0</td>\n",
       "      <td>0</td>\n",
       "      <td>0</td>\n",
       "      <td>0</td>\n",
       "      <td>0</td>\n",
       "      <td>0.0</td>\n",
       "      <td>0</td>\n",
       "      <td>0.0</td>\n",
       "      <td>0.0</td>\n",
       "      <td>0.0</td>\n",
       "      <td>...</td>\n",
       "      <td>0.0</td>\n",
       "      <td>2133.10</td>\n",
       "      <td>75.0</td>\n",
       "      <td>29.52</td>\n",
       "      <td>36</td>\n",
       "      <td>0.0</td>\n",
       "      <td>MG</td>\n",
       "      <td>10</td>\n",
       "      <td>4</td>\n",
       "      <td>1035.580387</td>\n",
       "    </tr>\n",
       "    <tr>\n",
       "      <th>2</th>\n",
       "      <td>0</td>\n",
       "      <td>0</td>\n",
       "      <td>0</td>\n",
       "      <td>0</td>\n",
       "      <td>0</td>\n",
       "      <td>0.0</td>\n",
       "      <td>0</td>\n",
       "      <td>0.0</td>\n",
       "      <td>0.0</td>\n",
       "      <td>0.0</td>\n",
       "      <td>...</td>\n",
       "      <td>0.0</td>\n",
       "      <td>2001.62</td>\n",
       "      <td>50.0</td>\n",
       "      <td>48.08</td>\n",
       "      <td>34</td>\n",
       "      <td>0.0</td>\n",
       "      <td>RJ</td>\n",
       "      <td>7</td>\n",
       "      <td>3</td>\n",
       "      <td>992.401825</td>\n",
       "    </tr>\n",
       "    <tr>\n",
       "      <th>3</th>\n",
       "      <td>0</td>\n",
       "      <td>0</td>\n",
       "      <td>0</td>\n",
       "      <td>0</td>\n",
       "      <td>0</td>\n",
       "      <td>0.0</td>\n",
       "      <td>0</td>\n",
       "      <td>0.0</td>\n",
       "      <td>0.0</td>\n",
       "      <td>0.0</td>\n",
       "      <td>...</td>\n",
       "      <td>0.0</td>\n",
       "      <td>1461.96</td>\n",
       "      <td>10.0</td>\n",
       "      <td>61.64</td>\n",
       "      <td>31</td>\n",
       "      <td>0.0</td>\n",
       "      <td>BA</td>\n",
       "      <td>7</td>\n",
       "      <td>1</td>\n",
       "      <td>919.720735</td>\n",
       "    </tr>\n",
       "    <tr>\n",
       "      <th>4</th>\n",
       "      <td>0</td>\n",
       "      <td>0</td>\n",
       "      <td>0</td>\n",
       "      <td>0</td>\n",
       "      <td>0</td>\n",
       "      <td>0.0</td>\n",
       "      <td>0</td>\n",
       "      <td>0.0</td>\n",
       "      <td>0.0</td>\n",
       "      <td>0.0</td>\n",
       "      <td>...</td>\n",
       "      <td>0.0</td>\n",
       "      <td>2743.72</td>\n",
       "      <td>100.0</td>\n",
       "      <td>34.44</td>\n",
       "      <td>32</td>\n",
       "      <td>1.0</td>\n",
       "      <td>PB</td>\n",
       "      <td>6</td>\n",
       "      <td>6</td>\n",
       "      <td>1176.485681</td>\n",
       "    </tr>\n",
       "    <tr>\n",
       "      <th>...</th>\n",
       "      <td>...</td>\n",
       "      <td>...</td>\n",
       "      <td>...</td>\n",
       "      <td>...</td>\n",
       "      <td>...</td>\n",
       "      <td>...</td>\n",
       "      <td>...</td>\n",
       "      <td>...</td>\n",
       "      <td>...</td>\n",
       "      <td>...</td>\n",
       "      <td>...</td>\n",
       "      <td>...</td>\n",
       "      <td>...</td>\n",
       "      <td>...</td>\n",
       "      <td>...</td>\n",
       "      <td>...</td>\n",
       "      <td>...</td>\n",
       "      <td>...</td>\n",
       "      <td>...</td>\n",
       "      <td>...</td>\n",
       "      <td>...</td>\n",
       "    </tr>\n",
       "    <tr>\n",
       "      <th>14995</th>\n",
       "      <td>0</td>\n",
       "      <td>0</td>\n",
       "      <td>0</td>\n",
       "      <td>0</td>\n",
       "      <td>0</td>\n",
       "      <td>0.0</td>\n",
       "      <td>50</td>\n",
       "      <td>50.0</td>\n",
       "      <td>430.0</td>\n",
       "      <td>25.0</td>\n",
       "      <td>...</td>\n",
       "      <td>0.0</td>\n",
       "      <td>4440.30</td>\n",
       "      <td>110.0</td>\n",
       "      <td>107.57</td>\n",
       "      <td>40</td>\n",
       "      <td>1.0</td>\n",
       "      <td>SP</td>\n",
       "      <td>2</td>\n",
       "      <td>6</td>\n",
       "      <td>1126.246160</td>\n",
       "    </tr>\n",
       "    <tr>\n",
       "      <th>14996</th>\n",
       "      <td>0</td>\n",
       "      <td>0</td>\n",
       "      <td>0</td>\n",
       "      <td>0</td>\n",
       "      <td>0</td>\n",
       "      <td>0.0</td>\n",
       "      <td>0</td>\n",
       "      <td>0.0</td>\n",
       "      <td>0.0</td>\n",
       "      <td>0.0</td>\n",
       "      <td>...</td>\n",
       "      <td>0.0</td>\n",
       "      <td>3009.38</td>\n",
       "      <td>135.0</td>\n",
       "      <td>12.46</td>\n",
       "      <td>33</td>\n",
       "      <td>0.0</td>\n",
       "      <td>PI</td>\n",
       "      <td>10</td>\n",
       "      <td>6</td>\n",
       "      <td>1158.199897</td>\n",
       "    </tr>\n",
       "    <tr>\n",
       "      <th>14997</th>\n",
       "      <td>0</td>\n",
       "      <td>0</td>\n",
       "      <td>0</td>\n",
       "      <td>0</td>\n",
       "      <td>0</td>\n",
       "      <td>0.0</td>\n",
       "      <td>0</td>\n",
       "      <td>0.0</td>\n",
       "      <td>0.0</td>\n",
       "      <td>0.0</td>\n",
       "      <td>...</td>\n",
       "      <td>0.0</td>\n",
       "      <td>881.77</td>\n",
       "      <td>0.0</td>\n",
       "      <td>43.21</td>\n",
       "      <td>23</td>\n",
       "      <td>0.0</td>\n",
       "      <td>SP</td>\n",
       "      <td>3</td>\n",
       "      <td>0</td>\n",
       "      <td>800.147253</td>\n",
       "    </tr>\n",
       "    <tr>\n",
       "      <th>14998</th>\n",
       "      <td>0</td>\n",
       "      <td>0</td>\n",
       "      <td>0</td>\n",
       "      <td>0</td>\n",
       "      <td>0</td>\n",
       "      <td>0.0</td>\n",
       "      <td>25</td>\n",
       "      <td>0.0</td>\n",
       "      <td>0.0</td>\n",
       "      <td>0.0</td>\n",
       "      <td>...</td>\n",
       "      <td>0.0</td>\n",
       "      <td>4385.49</td>\n",
       "      <td>145.0</td>\n",
       "      <td>69.89</td>\n",
       "      <td>43</td>\n",
       "      <td>0.0</td>\n",
       "      <td>BA</td>\n",
       "      <td>4</td>\n",
       "      <td>9</td>\n",
       "      <td>1385.466520</td>\n",
       "    </tr>\n",
       "    <tr>\n",
       "      <th>14999</th>\n",
       "      <td>0</td>\n",
       "      <td>0</td>\n",
       "      <td>0</td>\n",
       "      <td>0</td>\n",
       "      <td>0</td>\n",
       "      <td>0.0</td>\n",
       "      <td>0</td>\n",
       "      <td>0.0</td>\n",
       "      <td>0.0</td>\n",
       "      <td>0.0</td>\n",
       "      <td>...</td>\n",
       "      <td>0.0</td>\n",
       "      <td>1540.48</td>\n",
       "      <td>30.0</td>\n",
       "      <td>45.48</td>\n",
       "      <td>32</td>\n",
       "      <td>1.0</td>\n",
       "      <td>SP</td>\n",
       "      <td>5</td>\n",
       "      <td>2</td>\n",
       "      <td>968.095911</td>\n",
       "    </tr>\n",
       "  </tbody>\n",
       "</table>\n",
       "<p>15000 rows × 45 columns</p>\n",
       "</div>"
      ],
      "text/plain": [
       "       spend_1m_baby  spend_2m_baby  spend_3m_baby  spend_4m_baby  \\\n",
       "0                  0              0              0              0   \n",
       "1                  0              0              0              0   \n",
       "2                  0              0              0              0   \n",
       "3                  0              0              0              0   \n",
       "4                  0              0              0              0   \n",
       "...              ...            ...            ...            ...   \n",
       "14995              0              0              0              0   \n",
       "14996              0              0              0              0   \n",
       "14997              0              0              0              0   \n",
       "14998              0              0              0              0   \n",
       "14999              0              0              0              0   \n",
       "\n",
       "       spend_5m_baby  spend_6m_baby  spend_1m_clothes  spend_2m_clothes  \\\n",
       "0                  0            0.0                 0               0.0   \n",
       "1                  0            0.0                 0               0.0   \n",
       "2                  0            0.0                 0               0.0   \n",
       "3                  0            0.0                 0               0.0   \n",
       "4                  0            0.0                 0               0.0   \n",
       "...              ...            ...               ...               ...   \n",
       "14995              0            0.0                50              50.0   \n",
       "14996              0            0.0                 0               0.0   \n",
       "14997              0            0.0                 0               0.0   \n",
       "14998              0            0.0                25               0.0   \n",
       "14999              0            0.0                 0               0.0   \n",
       "\n",
       "       spend_3m_clothes  spend_4m_clothes  ...  spend_6m_eletronic    sales  \\\n",
       "0                   0.0               0.0  ...                 0.0  3368.64   \n",
       "1                   0.0               0.0  ...                 0.0  2133.10   \n",
       "2                   0.0               0.0  ...                 0.0  2001.62   \n",
       "3                   0.0               0.0  ...                 0.0  1461.96   \n",
       "4                   0.0               0.0  ...                 0.0  2743.72   \n",
       "...                 ...               ...  ...                 ...      ...   \n",
       "14995             430.0              25.0  ...                 0.0  4440.30   \n",
       "14996               0.0               0.0  ...                 0.0  3009.38   \n",
       "14997               0.0               0.0  ...                 0.0   881.77   \n",
       "14998               0.0               0.0  ...                 0.0  4385.49   \n",
       "14999               0.0               0.0  ...                 0.0  1540.48   \n",
       "\n",
       "       discount  profit  age  gender  cust_state  tenure  \\\n",
       "0         125.0   40.06   40     1.0          MA       6   \n",
       "1          75.0   29.52   36     0.0          MG      10   \n",
       "2          50.0   48.08   34     0.0          RJ       7   \n",
       "3          10.0   61.64   31     0.0          BA       7   \n",
       "4         100.0   34.44   32     1.0          PB       6   \n",
       "...         ...     ...  ...     ...         ...     ...   \n",
       "14995     110.0  107.57   40     1.0          SP       2   \n",
       "14996     135.0   12.46   33     0.0          PI      10   \n",
       "14997       0.0   43.21   23     0.0          SP       3   \n",
       "14998     145.0   69.89   43     0.0          BA       4   \n",
       "14999      30.0   45.48   32     1.0          SP       5   \n",
       "\n",
       "       sales_prediction_bins  sales_prediction  \n",
       "0                          8       1351.024765  \n",
       "1                          4       1035.580387  \n",
       "2                          3        992.401825  \n",
       "3                          1        919.720735  \n",
       "4                          6       1176.485681  \n",
       "...                      ...               ...  \n",
       "14995                      6       1126.246160  \n",
       "14996                      6       1158.199897  \n",
       "14997                      0        800.147253  \n",
       "14998                      9       1385.466520  \n",
       "14999                      2        968.095911  \n",
       "\n",
       "[15000 rows x 45 columns]"
      ]
     },
     "execution_count": 16,
     "metadata": {},
     "output_type": "execute_result"
    }
   ],
   "source": [
    "train"
   ]
  },
  {
   "cell_type": "code",
   "execution_count": 17,
   "id": "97e18d61-35ee-4a44-a26f-f203c3ba468b",
   "metadata": {},
   "outputs": [],
   "source": [
    "# 2.1\n",
    "y = train_two['sales']\n",
    "x = train_two[['age', 'tenure']]"
   ]
  },
  {
   "cell_type": "code",
   "execution_count": 18,
   "id": "68b7fc17-a73a-45ab-a9b0-27833a015f0c",
   "metadata": {},
   "outputs": [
    {
     "name": "stdout",
     "output_type": "stream",
     "text": [
      "0.32 accuracy with a standard deviation of 0.01\n"
     ]
    }
   ],
   "source": [
    "model = LinearRegression()\n",
    "scores = cross_val_score(model, x, y, cv=5, scoring='r2')\n",
    "print(\"%0.2f accuracy with a standard deviation of %0.2f\" % (scores.mean(), scores.std()))"
   ]
  },
  {
   "cell_type": "code",
   "execution_count": 19,
   "id": "d14c8599-6d04-4390-805d-630b1bb13115",
   "metadata": {},
   "outputs": [
    {
     "data": {
      "text/html": [
       "<style>#sk-container-id-1 {color: black;background-color: white;}#sk-container-id-1 pre{padding: 0;}#sk-container-id-1 div.sk-toggleable {background-color: white;}#sk-container-id-1 label.sk-toggleable__label {cursor: pointer;display: block;width: 100%;margin-bottom: 0;padding: 0.3em;box-sizing: border-box;text-align: center;}#sk-container-id-1 label.sk-toggleable__label-arrow:before {content: \"▸\";float: left;margin-right: 0.25em;color: #696969;}#sk-container-id-1 label.sk-toggleable__label-arrow:hover:before {color: black;}#sk-container-id-1 div.sk-estimator:hover label.sk-toggleable__label-arrow:before {color: black;}#sk-container-id-1 div.sk-toggleable__content {max-height: 0;max-width: 0;overflow: hidden;text-align: left;background-color: #f0f8ff;}#sk-container-id-1 div.sk-toggleable__content pre {margin: 0.2em;color: black;border-radius: 0.25em;background-color: #f0f8ff;}#sk-container-id-1 input.sk-toggleable__control:checked~div.sk-toggleable__content {max-height: 200px;max-width: 100%;overflow: auto;}#sk-container-id-1 input.sk-toggleable__control:checked~label.sk-toggleable__label-arrow:before {content: \"▾\";}#sk-container-id-1 div.sk-estimator input.sk-toggleable__control:checked~label.sk-toggleable__label {background-color: #d4ebff;}#sk-container-id-1 div.sk-label input.sk-toggleable__control:checked~label.sk-toggleable__label {background-color: #d4ebff;}#sk-container-id-1 input.sk-hidden--visually {border: 0;clip: rect(1px 1px 1px 1px);clip: rect(1px, 1px, 1px, 1px);height: 1px;margin: -1px;overflow: hidden;padding: 0;position: absolute;width: 1px;}#sk-container-id-1 div.sk-estimator {font-family: monospace;background-color: #f0f8ff;border: 1px dotted black;border-radius: 0.25em;box-sizing: border-box;margin-bottom: 0.5em;}#sk-container-id-1 div.sk-estimator:hover {background-color: #d4ebff;}#sk-container-id-1 div.sk-parallel-item::after {content: \"\";width: 100%;border-bottom: 1px solid gray;flex-grow: 1;}#sk-container-id-1 div.sk-label:hover label.sk-toggleable__label {background-color: #d4ebff;}#sk-container-id-1 div.sk-serial::before {content: \"\";position: absolute;border-left: 1px solid gray;box-sizing: border-box;top: 0;bottom: 0;left: 50%;z-index: 0;}#sk-container-id-1 div.sk-serial {display: flex;flex-direction: column;align-items: center;background-color: white;padding-right: 0.2em;padding-left: 0.2em;position: relative;}#sk-container-id-1 div.sk-item {position: relative;z-index: 1;}#sk-container-id-1 div.sk-parallel {display: flex;align-items: stretch;justify-content: center;background-color: white;position: relative;}#sk-container-id-1 div.sk-item::before, #sk-container-id-1 div.sk-parallel-item::before {content: \"\";position: absolute;border-left: 1px solid gray;box-sizing: border-box;top: 0;bottom: 0;left: 50%;z-index: -1;}#sk-container-id-1 div.sk-parallel-item {display: flex;flex-direction: column;z-index: 1;position: relative;background-color: white;}#sk-container-id-1 div.sk-parallel-item:first-child::after {align-self: flex-end;width: 50%;}#sk-container-id-1 div.sk-parallel-item:last-child::after {align-self: flex-start;width: 50%;}#sk-container-id-1 div.sk-parallel-item:only-child::after {width: 0;}#sk-container-id-1 div.sk-dashed-wrapped {border: 1px dashed gray;margin: 0 0.4em 0.5em 0.4em;box-sizing: border-box;padding-bottom: 0.4em;background-color: white;}#sk-container-id-1 div.sk-label label {font-family: monospace;font-weight: bold;display: inline-block;line-height: 1.2em;}#sk-container-id-1 div.sk-label-container {text-align: center;}#sk-container-id-1 div.sk-container {/* jupyter's `normalize.less` sets `[hidden] { display: none; }` but bootstrap.min.css set `[hidden] { display: none !important; }` so we also need the `!important` here to be able to override the default hidden behavior on the sphinx rendered scikit-learn.org. See: https://github.com/scikit-learn/scikit-learn/issues/21755 */display: inline-block !important;position: relative;}#sk-container-id-1 div.sk-text-repr-fallback {display: none;}</style><div id=\"sk-container-id-1\" class=\"sk-top-container\"><div class=\"sk-text-repr-fallback\"><pre>LinearRegression()</pre><b>In a Jupyter environment, please rerun this cell to show the HTML representation or trust the notebook. <br />On GitHub, the HTML representation is unable to render, please try loading this page with nbviewer.org.</b></div><div class=\"sk-container\" hidden><div class=\"sk-item\"><div class=\"sk-estimator sk-toggleable\"><input class=\"sk-toggleable__control sk-hidden--visually\" id=\"sk-estimator-id-1\" type=\"checkbox\" checked><label for=\"sk-estimator-id-1\" class=\"sk-toggleable__label sk-toggleable__label-arrow\">LinearRegression</label><div class=\"sk-toggleable__content\"><pre>LinearRegression()</pre></div></div></div></div></div>"
      ],
      "text/plain": [
       "LinearRegression()"
      ]
     },
     "execution_count": 19,
     "metadata": {},
     "output_type": "execute_result"
    }
   ],
   "source": [
    "model.fit(x, y)"
   ]
  },
  {
   "cell_type": "code",
   "execution_count": 20,
   "id": "cfa4cc77-f432-4c18-8db9-5f0904da4554",
   "metadata": {},
   "outputs": [
    {
     "name": "stdout",
     "output_type": "stream",
     "text": [
      "[LightGBM] [Warning] Auto-choosing col-wise multi-threading, the overhead of testing was 0.000230 seconds.\n",
      "You can set `force_col_wise=true` to remove the overhead.\n",
      "[LightGBM] [Warning] Auto-choosing col-wise multi-threading, the overhead of testing was 0.000178 seconds.\n",
      "You can set `force_col_wise=true` to remove the overhead.\n",
      "[LightGBM] [Warning] Auto-choosing col-wise multi-threading, the overhead of testing was 0.001948 seconds.\n",
      "You can set `force_col_wise=true` to remove the overhead.\n",
      "[LightGBM] [Warning] Auto-choosing col-wise multi-threading, the overhead of testing was 0.000305 seconds.\n",
      "You can set `force_col_wise=true` to remove the overhead.\n",
      "[LightGBM] [Warning] Auto-choosing col-wise multi-threading, the overhead of testing was 0.000277 seconds.\n",
      "You can set `force_col_wise=true` to remove the overhead.\n",
      "0.31 accuracy with a standard deviation of 0.01\n"
     ]
    }
   ],
   "source": [
    "model_2 = lgb.LGBMRegressor(verbose=0)\n",
    "scores = cross_val_score(model_2, x, y, cv=5, scoring='r2')\n",
    "print(\"%0.2f accuracy with a standard deviation of %0.2f\" % (scores.mean(), scores.std()))"
   ]
  },
  {
   "cell_type": "code",
   "execution_count": 21,
   "id": "1253fc9b-f47d-46b5-90aa-d3f5e2c6a3c2",
   "metadata": {},
   "outputs": [],
   "source": [
    "# model_2.fit(x, y)"
   ]
  },
  {
   "cell_type": "code",
   "execution_count": 22,
   "id": "c5543214-6260-4210-9401-733e2ade54ad",
   "metadata": {},
   "outputs": [],
   "source": [
    "# expected_y  = y_test\n",
    "# predicted_y = model.predict(x_test)"
   ]
  },
  {
   "cell_type": "code",
   "execution_count": 23,
   "id": "b420744d-8d2d-4016-88cd-7037bcc016f3",
   "metadata": {},
   "outputs": [],
   "source": [
    "# plt.figure(figsize=(10,10))\n",
    "# sns.regplot(expected_y, predicted_y, fit_reg=True, scatter_kws={\"s\": 100})"
   ]
  },
  {
   "cell_type": "code",
   "execution_count": 24,
   "id": "6696c422-316d-46e9-bb2b-85b3a53fc986",
   "metadata": {},
   "outputs": [],
   "source": [
    "# lgb.plot_importance(model_2, height=.5)"
   ]
  },
  {
   "cell_type": "code",
   "execution_count": 25,
   "id": "c92caabb-db4f-41ff-9934-ba2074851afb",
   "metadata": {},
   "outputs": [],
   "source": [
    "train_pred = train_two.copy() \n",
    "train_pred['pred'] = model.predict(train_pred[['age','tenure']])"
   ]
  },
  {
   "cell_type": "code",
   "execution_count": 26,
   "id": "fc1945e0-fece-4640-aef8-90cbf91a2c64",
   "metadata": {},
   "outputs": [
    {
     "data": {
      "text/html": [
       "<div>\n",
       "<style scoped>\n",
       "    .dataframe tbody tr th:only-of-type {\n",
       "        vertical-align: middle;\n",
       "    }\n",
       "\n",
       "    .dataframe tbody tr th {\n",
       "        vertical-align: top;\n",
       "    }\n",
       "\n",
       "    .dataframe thead th {\n",
       "        text-align: right;\n",
       "    }\n",
       "</style>\n",
       "<table border=\"1\" class=\"dataframe\">\n",
       "  <thead>\n",
       "    <tr style=\"text-align: right;\">\n",
       "      <th></th>\n",
       "      <th>sales</th>\n",
       "      <th>discount</th>\n",
       "      <th>profit</th>\n",
       "      <th>age</th>\n",
       "      <th>cust_state</th>\n",
       "      <th>tenure</th>\n",
       "      <th>sales_prediction_bins</th>\n",
       "      <th>sales_prediction</th>\n",
       "      <th>pred</th>\n",
       "    </tr>\n",
       "  </thead>\n",
       "  <tbody>\n",
       "    <tr>\n",
       "      <th>0</th>\n",
       "      <td>3368.64</td>\n",
       "      <td>125.0</td>\n",
       "      <td>40.06</td>\n",
       "      <td>40</td>\n",
       "      <td>MA</td>\n",
       "      <td>6</td>\n",
       "      <td>8</td>\n",
       "      <td>1351.024765</td>\n",
       "      <td>3344.020254</td>\n",
       "    </tr>\n",
       "    <tr>\n",
       "      <th>1</th>\n",
       "      <td>2133.10</td>\n",
       "      <td>75.0</td>\n",
       "      <td>29.52</td>\n",
       "      <td>36</td>\n",
       "      <td>MG</td>\n",
       "      <td>10</td>\n",
       "      <td>4</td>\n",
       "      <td>1035.580387</td>\n",
       "      <td>2965.710884</td>\n",
       "    </tr>\n",
       "    <tr>\n",
       "      <th>2</th>\n",
       "      <td>2001.62</td>\n",
       "      <td>50.0</td>\n",
       "      <td>48.08</td>\n",
       "      <td>34</td>\n",
       "      <td>RJ</td>\n",
       "      <td>7</td>\n",
       "      <td>3</td>\n",
       "      <td>992.401825</td>\n",
       "      <td>2763.952799</td>\n",
       "    </tr>\n",
       "    <tr>\n",
       "      <th>3</th>\n",
       "      <td>1461.96</td>\n",
       "      <td>10.0</td>\n",
       "      <td>61.64</td>\n",
       "      <td>31</td>\n",
       "      <td>BA</td>\n",
       "      <td>7</td>\n",
       "      <td>1</td>\n",
       "      <td>919.720735</td>\n",
       "      <td>2472.658732</td>\n",
       "    </tr>\n",
       "    <tr>\n",
       "      <th>4</th>\n",
       "      <td>2743.72</td>\n",
       "      <td>100.0</td>\n",
       "      <td>34.44</td>\n",
       "      <td>32</td>\n",
       "      <td>PB</td>\n",
       "      <td>6</td>\n",
       "      <td>6</td>\n",
       "      <td>1176.485681</td>\n",
       "      <td>2567.236074</td>\n",
       "    </tr>\n",
       "    <tr>\n",
       "      <th>...</th>\n",
       "      <td>...</td>\n",
       "      <td>...</td>\n",
       "      <td>...</td>\n",
       "      <td>...</td>\n",
       "      <td>...</td>\n",
       "      <td>...</td>\n",
       "      <td>...</td>\n",
       "      <td>...</td>\n",
       "      <td>...</td>\n",
       "    </tr>\n",
       "    <tr>\n",
       "      <th>14995</th>\n",
       "      <td>4440.30</td>\n",
       "      <td>110.0</td>\n",
       "      <td>107.57</td>\n",
       "      <td>40</td>\n",
       "      <td>SP</td>\n",
       "      <td>2</td>\n",
       "      <td>6</td>\n",
       "      <td>1126.246160</td>\n",
       "      <td>3333.937534</td>\n",
       "    </tr>\n",
       "    <tr>\n",
       "      <th>14996</th>\n",
       "      <td>3009.38</td>\n",
       "      <td>135.0</td>\n",
       "      <td>12.46</td>\n",
       "      <td>33</td>\n",
       "      <td>PI</td>\n",
       "      <td>10</td>\n",
       "      <td>6</td>\n",
       "      <td>1158.199897</td>\n",
       "      <td>2674.416817</td>\n",
       "    </tr>\n",
       "    <tr>\n",
       "      <th>14997</th>\n",
       "      <td>881.77</td>\n",
       "      <td>0.0</td>\n",
       "      <td>43.21</td>\n",
       "      <td>23</td>\n",
       "      <td>SP</td>\n",
       "      <td>3</td>\n",
       "      <td>0</td>\n",
       "      <td>800.147253</td>\n",
       "      <td>1685.791832</td>\n",
       "    </tr>\n",
       "    <tr>\n",
       "      <th>14998</th>\n",
       "      <td>4385.49</td>\n",
       "      <td>145.0</td>\n",
       "      <td>69.89</td>\n",
       "      <td>43</td>\n",
       "      <td>BA</td>\n",
       "      <td>4</td>\n",
       "      <td>9</td>\n",
       "      <td>1385.466520</td>\n",
       "      <td>3630.272962</td>\n",
       "    </tr>\n",
       "    <tr>\n",
       "      <th>14999</th>\n",
       "      <td>1540.48</td>\n",
       "      <td>30.0</td>\n",
       "      <td>45.48</td>\n",
       "      <td>32</td>\n",
       "      <td>SP</td>\n",
       "      <td>5</td>\n",
       "      <td>2</td>\n",
       "      <td>968.095911</td>\n",
       "      <td>2564.715394</td>\n",
       "    </tr>\n",
       "  </tbody>\n",
       "</table>\n",
       "<p>15000 rows × 9 columns</p>\n",
       "</div>"
      ],
      "text/plain": [
       "         sales  discount  profit  age cust_state  tenure  \\\n",
       "0      3368.64     125.0   40.06   40         MA       6   \n",
       "1      2133.10      75.0   29.52   36         MG      10   \n",
       "2      2001.62      50.0   48.08   34         RJ       7   \n",
       "3      1461.96      10.0   61.64   31         BA       7   \n",
       "4      2743.72     100.0   34.44   32         PB       6   \n",
       "...        ...       ...     ...  ...        ...     ...   \n",
       "14995  4440.30     110.0  107.57   40         SP       2   \n",
       "14996  3009.38     135.0   12.46   33         PI      10   \n",
       "14997   881.77       0.0   43.21   23         SP       3   \n",
       "14998  4385.49     145.0   69.89   43         BA       4   \n",
       "14999  1540.48      30.0   45.48   32         SP       5   \n",
       "\n",
       "       sales_prediction_bins  sales_prediction         pred  \n",
       "0                          8       1351.024765  3344.020254  \n",
       "1                          4       1035.580387  2965.710884  \n",
       "2                          3        992.401825  2763.952799  \n",
       "3                          1        919.720735  2472.658732  \n",
       "4                          6       1176.485681  2567.236074  \n",
       "...                      ...               ...          ...  \n",
       "14995                      6       1126.246160  3333.937534  \n",
       "14996                      6       1158.199897  2674.416817  \n",
       "14997                      0        800.147253  1685.791832  \n",
       "14998                      9       1385.466520  3630.272962  \n",
       "14999                      2        968.095911  2564.715394  \n",
       "\n",
       "[15000 rows x 9 columns]"
      ]
     },
     "execution_count": 26,
     "metadata": {},
     "output_type": "execute_result"
    }
   ],
   "source": [
    "train_pred"
   ]
  },
  {
   "cell_type": "code",
   "execution_count": 27,
   "id": "9db1b355-bc5f-4fbb-a466-3cfbb0af1640",
   "metadata": {},
   "outputs": [],
   "source": [
    "test_pred = test.copy() \n",
    "test_pred['pred'] = model.predict(test_pred[['age','tenure']])"
   ]
  },
  {
   "cell_type": "code",
   "execution_count": 28,
   "id": "1900d3b7-7ef8-4f26-8510-99be76f2c4f8",
   "metadata": {},
   "outputs": [
    {
     "data": {
      "text/html": [
       "<div>\n",
       "<style scoped>\n",
       "    .dataframe tbody tr th:only-of-type {\n",
       "        vertical-align: middle;\n",
       "    }\n",
       "\n",
       "    .dataframe tbody tr th {\n",
       "        vertical-align: top;\n",
       "    }\n",
       "\n",
       "    .dataframe thead th {\n",
       "        text-align: right;\n",
       "    }\n",
       "</style>\n",
       "<table border=\"1\" class=\"dataframe\">\n",
       "  <thead>\n",
       "    <tr style=\"text-align: right;\">\n",
       "      <th></th>\n",
       "      <th>sales</th>\n",
       "      <th>age</th>\n",
       "      <th>tenure</th>\n",
       "      <th>pred</th>\n",
       "    </tr>\n",
       "  </thead>\n",
       "  <tbody>\n",
       "    <tr>\n",
       "      <th>0</th>\n",
       "      <td>1503.22</td>\n",
       "      <td>35</td>\n",
       "      <td>23</td>\n",
       "      <td>2901.381702</td>\n",
       "    </tr>\n",
       "    <tr>\n",
       "      <th>1</th>\n",
       "      <td>1798.30</td>\n",
       "      <td>29</td>\n",
       "      <td>18</td>\n",
       "      <td>2306.190167</td>\n",
       "    </tr>\n",
       "    <tr>\n",
       "      <th>2</th>\n",
       "      <td>1122.97</td>\n",
       "      <td>30</td>\n",
       "      <td>20</td>\n",
       "      <td>2408.329549</td>\n",
       "    </tr>\n",
       "    <tr>\n",
       "      <th>3</th>\n",
       "      <td>1217.08</td>\n",
       "      <td>32</td>\n",
       "      <td>20</td>\n",
       "      <td>2602.525594</td>\n",
       "    </tr>\n",
       "    <tr>\n",
       "      <th>4</th>\n",
       "      <td>966.58</td>\n",
       "      <td>30</td>\n",
       "      <td>22</td>\n",
       "      <td>2413.370909</td>\n",
       "    </tr>\n",
       "    <tr>\n",
       "      <th>...</th>\n",
       "      <td>...</td>\n",
       "      <td>...</td>\n",
       "      <td>...</td>\n",
       "      <td>...</td>\n",
       "    </tr>\n",
       "    <tr>\n",
       "      <th>4995</th>\n",
       "      <td>1607.74</td>\n",
       "      <td>31</td>\n",
       "      <td>19</td>\n",
       "      <td>2502.906892</td>\n",
       "    </tr>\n",
       "    <tr>\n",
       "      <th>4996</th>\n",
       "      <td>1201.35</td>\n",
       "      <td>23</td>\n",
       "      <td>18</td>\n",
       "      <td>1723.602032</td>\n",
       "    </tr>\n",
       "    <tr>\n",
       "      <th>4997</th>\n",
       "      <td>1196.42</td>\n",
       "      <td>31</td>\n",
       "      <td>24</td>\n",
       "      <td>2515.510292</td>\n",
       "    </tr>\n",
       "    <tr>\n",
       "      <th>4998</th>\n",
       "      <td>6769.79</td>\n",
       "      <td>28</td>\n",
       "      <td>25</td>\n",
       "      <td>2226.736905</td>\n",
       "    </tr>\n",
       "    <tr>\n",
       "      <th>4999</th>\n",
       "      <td>996.86</td>\n",
       "      <td>25</td>\n",
       "      <td>23</td>\n",
       "      <td>1930.401477</td>\n",
       "    </tr>\n",
       "  </tbody>\n",
       "</table>\n",
       "<p>5000 rows × 4 columns</p>\n",
       "</div>"
      ],
      "text/plain": [
       "        sales  age  tenure         pred\n",
       "0     1503.22   35      23  2901.381702\n",
       "1     1798.30   29      18  2306.190167\n",
       "2     1122.97   30      20  2408.329549\n",
       "3     1217.08   32      20  2602.525594\n",
       "4      966.58   30      22  2413.370909\n",
       "...       ...  ...     ...          ...\n",
       "4995  1607.74   31      19  2502.906892\n",
       "4996  1201.35   23      18  1723.602032\n",
       "4997  1196.42   31      24  2515.510292\n",
       "4998  6769.79   28      25  2226.736905\n",
       "4999   996.86   25      23  1930.401477\n",
       "\n",
       "[5000 rows x 4 columns]"
      ]
     },
     "execution_count": 28,
     "metadata": {},
     "output_type": "execute_result"
    }
   ],
   "source": [
    "test_pred[['sales','age','tenure','pred']]"
   ]
  },
  {
   "cell_type": "code",
   "execution_count": 29,
   "id": "3ff0f194-c3fe-48ee-b017-c324121a7aad",
   "metadata": {},
   "outputs": [
    {
     "name": "stdout",
     "output_type": "stream",
     "text": [
      "Training R^2: 0.3183537812091115\n",
      "Test R^2: -0.6187299814242708\n"
     ]
    }
   ],
   "source": [
    "print(f'Training R^2: {metrics.r2_score(train_pred[\"sales\"], train_pred[\"pred\"])}')\n",
    "print(f'Test R^2: {metrics.r2_score(test_pred[\"sales\"], test_pred[\"pred\"])}')"
   ]
  },
  {
   "cell_type": "code",
   "execution_count": 30,
   "id": "1c9a361f-1876-4171-ae15-22d0cf2f187c",
   "metadata": {},
   "outputs": [
    {
     "data": {
      "text/plain": [
       "<AxesSubplot:>"
      ]
     },
     "execution_count": 30,
     "metadata": {},
     "output_type": "execute_result"
    },
    {
     "data": {
      "image/png": "[encoded data removed]",
      "text/plain": [
       "<Figure size 432x288 with 1 Axes>"
      ]
     },
     "metadata": {
      "needs_background": "light"
     },
     "output_type": "display_data"
    }
   ],
   "source": [
    "test_pred.sales.hist()"
   ]
  },
  {
   "cell_type": "code",
   "execution_count": 31,
   "id": "da810ebd-0174-46c5-bdf6-2b4d951a0fea",
   "metadata": {},
   "outputs": [
    {
     "data": {
      "text/plain": [
       "1604.97"
      ]
     },
     "execution_count": 31,
     "metadata": {},
     "output_type": "execute_result"
    }
   ],
   "source": [
    "test_pred.sales.median()"
   ]
  },
  {
   "cell_type": "code",
   "execution_count": 32,
   "id": "cb7648a2-bf9a-473f-a45f-d894a047a3cd",
   "metadata": {},
   "outputs": [
    {
     "data": {
      "text/plain": [
       "2316.855"
      ]
     },
     "execution_count": 32,
     "metadata": {},
     "output_type": "execute_result"
    }
   ],
   "source": [
    "train_pred.sales.median()"
   ]
  },
  {
   "cell_type": "code",
   "execution_count": 33,
   "id": "af4f9ffe-8e5f-4611-90f2-cec30499956e",
   "metadata": {},
   "outputs": [
    {
     "data": {
      "text/plain": [
       "<AxesSubplot:>"
      ]
     },
     "execution_count": 33,
     "metadata": {},
     "output_type": "execute_result"
    },
    {
     "data": {
      "image/png": "[encoded data removed]",
      "text/plain": [
       "<Figure size 432x288 with 1 Axes>"
      ]
     },
     "metadata": {
      "needs_background": "light"
     },
     "output_type": "display_data"
    }
   ],
   "source": [
    "train_pred.sales.hist()"
   ]
  },
  {
   "cell_type": "code",
   "execution_count": 34,
   "id": "3a158022-7831-4da3-b867-247558f1358e",
   "metadata": {},
   "outputs": [
    {
     "data": {
      "text/plain": [
       "0.0411178845973187"
      ]
     },
     "execution_count": 34,
     "metadata": {},
     "output_type": "execute_result"
    }
   ],
   "source": [
    "# 2.1.4\n",
    "sorted_by_pred_test = test_pred.sort_values(by = 'pred',ascending = False).head(1000)\n",
    "elast(sorted_by_pred_test['discount'], sorted_by_pred_test['pred'])"
   ]
  },
  {
   "cell_type": "code",
   "execution_count": 35,
   "id": "6116c2f2-353f-4b0d-b2fe-daa0400e4273",
   "metadata": {},
   "outputs": [
    {
     "data": {
      "text/plain": [
       "-0.027909595212351392"
      ]
     },
     "execution_count": 35,
     "metadata": {},
     "output_type": "execute_result"
    }
   ],
   "source": [
    "sorted_by_pred_test = test_pred.sort_values(by = 'pred',ascending = True).head(1000)\n",
    "elast(sorted_by_pred_test['discount'], sorted_by_pred_test['pred'])"
   ]
  },
  {
   "cell_type": "code",
   "execution_count": 36,
   "id": "706e7665-76da-4f4c-ba9f-ad4284a52385",
   "metadata": {},
   "outputs": [],
   "source": [
    "# 3.1.1\n"
   ]
  },
  {
   "cell_type": "code",
   "execution_count": 37,
   "id": "aa303c44-753d-4586-ae38-365855a194a8",
   "metadata": {},
   "outputs": [],
   "source": [
    "# 4.1.1"
   ]
  },
  {
   "cell_type": "code",
   "execution_count": 38,
   "id": "d5177528-cc8d-41cd-bccb-876ba79f16f2",
   "metadata": {},
   "outputs": [
    {
     "data": {
      "text/html": [
       "<div>\n",
       "<style scoped>\n",
       "    .dataframe tbody tr th:only-of-type {\n",
       "        vertical-align: middle;\n",
       "    }\n",
       "\n",
       "    .dataframe tbody tr th {\n",
       "        vertical-align: top;\n",
       "    }\n",
       "\n",
       "    .dataframe thead th {\n",
       "        text-align: right;\n",
       "    }\n",
       "</style>\n",
       "<table border=\"1\" class=\"dataframe\">\n",
       "  <thead>\n",
       "    <tr style=\"text-align: right;\">\n",
       "      <th></th>\n",
       "      <th>spend_1m_baby</th>\n",
       "      <th>spend_2m_baby</th>\n",
       "      <th>spend_3m_baby</th>\n",
       "      <th>spend_4m_baby</th>\n",
       "      <th>spend_5m_baby</th>\n",
       "      <th>spend_6m_baby</th>\n",
       "      <th>spend_1m_clothes</th>\n",
       "      <th>spend_2m_clothes</th>\n",
       "      <th>spend_3m_clothes</th>\n",
       "      <th>spend_4m_clothes</th>\n",
       "      <th>...</th>\n",
       "      <th>spend_6m_eletronic</th>\n",
       "      <th>sales</th>\n",
       "      <th>discount</th>\n",
       "      <th>age</th>\n",
       "      <th>gender</th>\n",
       "      <th>cust_state</th>\n",
       "      <th>tenure</th>\n",
       "      <th>profit</th>\n",
       "      <th>pred</th>\n",
       "      <th>binary_discount</th>\n",
       "    </tr>\n",
       "  </thead>\n",
       "  <tbody>\n",
       "    <tr>\n",
       "      <th>0</th>\n",
       "      <td>0</td>\n",
       "      <td>0</td>\n",
       "      <td>0</td>\n",
       "      <td>0</td>\n",
       "      <td>0</td>\n",
       "      <td>0.0</td>\n",
       "      <td>25</td>\n",
       "      <td>50.0</td>\n",
       "      <td>0.0</td>\n",
       "      <td>0.0</td>\n",
       "      <td>...</td>\n",
       "      <td>0.0</td>\n",
       "      <td>1503.22</td>\n",
       "      <td>20.0</td>\n",
       "      <td>35</td>\n",
       "      <td>1.0</td>\n",
       "      <td>MA</td>\n",
       "      <td>23</td>\n",
       "      <td>55.16</td>\n",
       "      <td>2901.381702</td>\n",
       "      <td>0</td>\n",
       "    </tr>\n",
       "    <tr>\n",
       "      <th>1</th>\n",
       "      <td>0</td>\n",
       "      <td>0</td>\n",
       "      <td>0</td>\n",
       "      <td>0</td>\n",
       "      <td>0</td>\n",
       "      <td>0.0</td>\n",
       "      <td>0</td>\n",
       "      <td>0.0</td>\n",
       "      <td>0.0</td>\n",
       "      <td>0.0</td>\n",
       "      <td>...</td>\n",
       "      <td>0.0</td>\n",
       "      <td>1798.30</td>\n",
       "      <td>60.0</td>\n",
       "      <td>29</td>\n",
       "      <td>1.0</td>\n",
       "      <td>MG</td>\n",
       "      <td>18</td>\n",
       "      <td>29.92</td>\n",
       "      <td>2306.190167</td>\n",
       "      <td>1</td>\n",
       "    </tr>\n",
       "    <tr>\n",
       "      <th>2</th>\n",
       "      <td>0</td>\n",
       "      <td>0</td>\n",
       "      <td>0</td>\n",
       "      <td>0</td>\n",
       "      <td>0</td>\n",
       "      <td>0.0</td>\n",
       "      <td>0</td>\n",
       "      <td>0.0</td>\n",
       "      <td>0.0</td>\n",
       "      <td>0.0</td>\n",
       "      <td>...</td>\n",
       "      <td>0.0</td>\n",
       "      <td>1122.97</td>\n",
       "      <td>0.0</td>\n",
       "      <td>30</td>\n",
       "      <td>1.0</td>\n",
       "      <td>RJ</td>\n",
       "      <td>20</td>\n",
       "      <td>56.15</td>\n",
       "      <td>2408.329549</td>\n",
       "      <td>0</td>\n",
       "    </tr>\n",
       "    <tr>\n",
       "      <th>3</th>\n",
       "      <td>10</td>\n",
       "      <td>15</td>\n",
       "      <td>0</td>\n",
       "      <td>25</td>\n",
       "      <td>10</td>\n",
       "      <td>0.0</td>\n",
       "      <td>0</td>\n",
       "      <td>0.0</td>\n",
       "      <td>0.0</td>\n",
       "      <td>0.0</td>\n",
       "      <td>...</td>\n",
       "      <td>0.0</td>\n",
       "      <td>1217.08</td>\n",
       "      <td>10.0</td>\n",
       "      <td>32</td>\n",
       "      <td>0.0</td>\n",
       "      <td>BA</td>\n",
       "      <td>20</td>\n",
       "      <td>50.85</td>\n",
       "      <td>2602.525594</td>\n",
       "      <td>0</td>\n",
       "    </tr>\n",
       "    <tr>\n",
       "      <th>4</th>\n",
       "      <td>0</td>\n",
       "      <td>0</td>\n",
       "      <td>0</td>\n",
       "      <td>0</td>\n",
       "      <td>0</td>\n",
       "      <td>0.0</td>\n",
       "      <td>0</td>\n",
       "      <td>0.0</td>\n",
       "      <td>0.0</td>\n",
       "      <td>0.0</td>\n",
       "      <td>...</td>\n",
       "      <td>0.0</td>\n",
       "      <td>966.58</td>\n",
       "      <td>0.0</td>\n",
       "      <td>30</td>\n",
       "      <td>0.0</td>\n",
       "      <td>PB</td>\n",
       "      <td>22</td>\n",
       "      <td>48.33</td>\n",
       "      <td>2413.370909</td>\n",
       "      <td>0</td>\n",
       "    </tr>\n",
       "    <tr>\n",
       "      <th>...</th>\n",
       "      <td>...</td>\n",
       "      <td>...</td>\n",
       "      <td>...</td>\n",
       "      <td>...</td>\n",
       "      <td>...</td>\n",
       "      <td>...</td>\n",
       "      <td>...</td>\n",
       "      <td>...</td>\n",
       "      <td>...</td>\n",
       "      <td>...</td>\n",
       "      <td>...</td>\n",
       "      <td>...</td>\n",
       "      <td>...</td>\n",
       "      <td>...</td>\n",
       "      <td>...</td>\n",
       "      <td>...</td>\n",
       "      <td>...</td>\n",
       "      <td>...</td>\n",
       "      <td>...</td>\n",
       "      <td>...</td>\n",
       "      <td>...</td>\n",
       "    </tr>\n",
       "    <tr>\n",
       "      <th>4995</th>\n",
       "      <td>0</td>\n",
       "      <td>0</td>\n",
       "      <td>0</td>\n",
       "      <td>0</td>\n",
       "      <td>0</td>\n",
       "      <td>0.0</td>\n",
       "      <td>0</td>\n",
       "      <td>0.0</td>\n",
       "      <td>0.0</td>\n",
       "      <td>0.0</td>\n",
       "      <td>...</td>\n",
       "      <td>0.0</td>\n",
       "      <td>1607.74</td>\n",
       "      <td>10.0</td>\n",
       "      <td>31</td>\n",
       "      <td>0.0</td>\n",
       "      <td>RS</td>\n",
       "      <td>19</td>\n",
       "      <td>70.39</td>\n",
       "      <td>2502.906892</td>\n",
       "      <td>0</td>\n",
       "    </tr>\n",
       "    <tr>\n",
       "      <th>4996</th>\n",
       "      <td>0</td>\n",
       "      <td>0</td>\n",
       "      <td>0</td>\n",
       "      <td>0</td>\n",
       "      <td>0</td>\n",
       "      <td>0.0</td>\n",
       "      <td>0</td>\n",
       "      <td>0.0</td>\n",
       "      <td>0.0</td>\n",
       "      <td>0.0</td>\n",
       "      <td>...</td>\n",
       "      <td>0.0</td>\n",
       "      <td>1201.35</td>\n",
       "      <td>30.0</td>\n",
       "      <td>23</td>\n",
       "      <td>1.0</td>\n",
       "      <td>RJ</td>\n",
       "      <td>18</td>\n",
       "      <td>30.07</td>\n",
       "      <td>1723.602032</td>\n",
       "      <td>0</td>\n",
       "    </tr>\n",
       "    <tr>\n",
       "      <th>4997</th>\n",
       "      <td>0</td>\n",
       "      <td>0</td>\n",
       "      <td>0</td>\n",
       "      <td>0</td>\n",
       "      <td>0</td>\n",
       "      <td>0.0</td>\n",
       "      <td>0</td>\n",
       "      <td>0.0</td>\n",
       "      <td>0.0</td>\n",
       "      <td>0.0</td>\n",
       "      <td>...</td>\n",
       "      <td>0.0</td>\n",
       "      <td>1196.42</td>\n",
       "      <td>10.0</td>\n",
       "      <td>31</td>\n",
       "      <td>0.0</td>\n",
       "      <td>SP</td>\n",
       "      <td>24</td>\n",
       "      <td>49.82</td>\n",
       "      <td>2515.510292</td>\n",
       "      <td>0</td>\n",
       "    </tr>\n",
       "    <tr>\n",
       "      <th>4998</th>\n",
       "      <td>0</td>\n",
       "      <td>0</td>\n",
       "      <td>0</td>\n",
       "      <td>0</td>\n",
       "      <td>0</td>\n",
       "      <td>0.0</td>\n",
       "      <td>0</td>\n",
       "      <td>0.0</td>\n",
       "      <td>0.0</td>\n",
       "      <td>0.0</td>\n",
       "      <td>...</td>\n",
       "      <td>0.0</td>\n",
       "      <td>6769.79</td>\n",
       "      <td>240.0</td>\n",
       "      <td>28</td>\n",
       "      <td>0.0</td>\n",
       "      <td>SP</td>\n",
       "      <td>25</td>\n",
       "      <td>98.49</td>\n",
       "      <td>2226.736905</td>\n",
       "      <td>1</td>\n",
       "    </tr>\n",
       "    <tr>\n",
       "      <th>4999</th>\n",
       "      <td>0</td>\n",
       "      <td>0</td>\n",
       "      <td>0</td>\n",
       "      <td>0</td>\n",
       "      <td>0</td>\n",
       "      <td>0.0</td>\n",
       "      <td>0</td>\n",
       "      <td>0.0</td>\n",
       "      <td>0.0</td>\n",
       "      <td>0.0</td>\n",
       "      <td>...</td>\n",
       "      <td>0.0</td>\n",
       "      <td>996.86</td>\n",
       "      <td>10.0</td>\n",
       "      <td>25</td>\n",
       "      <td>0.0</td>\n",
       "      <td>PB</td>\n",
       "      <td>23</td>\n",
       "      <td>39.84</td>\n",
       "      <td>1930.401477</td>\n",
       "      <td>0</td>\n",
       "    </tr>\n",
       "  </tbody>\n",
       "</table>\n",
       "<p>5000 rows × 45 columns</p>\n",
       "</div>"
      ],
      "text/plain": [
       "      spend_1m_baby  spend_2m_baby  spend_3m_baby  spend_4m_baby  \\\n",
       "0                 0              0              0              0   \n",
       "1                 0              0              0              0   \n",
       "2                 0              0              0              0   \n",
       "3                10             15              0             25   \n",
       "4                 0              0              0              0   \n",
       "...             ...            ...            ...            ...   \n",
       "4995              0              0              0              0   \n",
       "4996              0              0              0              0   \n",
       "4997              0              0              0              0   \n",
       "4998              0              0              0              0   \n",
       "4999              0              0              0              0   \n",
       "\n",
       "      spend_5m_baby  spend_6m_baby  spend_1m_clothes  spend_2m_clothes  \\\n",
       "0                 0            0.0                25              50.0   \n",
       "1                 0            0.0                 0               0.0   \n",
       "2                 0            0.0                 0               0.0   \n",
       "3                10            0.0                 0               0.0   \n",
       "4                 0            0.0                 0               0.0   \n",
       "...             ...            ...               ...               ...   \n",
       "4995              0            0.0                 0               0.0   \n",
       "4996              0            0.0                 0               0.0   \n",
       "4997              0            0.0                 0               0.0   \n",
       "4998              0            0.0                 0               0.0   \n",
       "4999              0            0.0                 0               0.0   \n",
       "\n",
       "      spend_3m_clothes  spend_4m_clothes  ...  spend_6m_eletronic    sales  \\\n",
       "0                  0.0               0.0  ...                 0.0  1503.22   \n",
       "1                  0.0               0.0  ...                 0.0  1798.30   \n",
       "2                  0.0               0.0  ...                 0.0  1122.97   \n",
       "3                  0.0               0.0  ...                 0.0  1217.08   \n",
       "4                  0.0               0.0  ...                 0.0   966.58   \n",
       "...                ...               ...  ...                 ...      ...   \n",
       "4995               0.0               0.0  ...                 0.0  1607.74   \n",
       "4996               0.0               0.0  ...                 0.0  1201.35   \n",
       "4997               0.0               0.0  ...                 0.0  1196.42   \n",
       "4998               0.0               0.0  ...                 0.0  6769.79   \n",
       "4999               0.0               0.0  ...                 0.0   996.86   \n",
       "\n",
       "      discount  age  gender  cust_state  tenure  profit         pred  \\\n",
       "0         20.0   35     1.0          MA      23   55.16  2901.381702   \n",
       "1         60.0   29     1.0          MG      18   29.92  2306.190167   \n",
       "2          0.0   30     1.0          RJ      20   56.15  2408.329549   \n",
       "3         10.0   32     0.0          BA      20   50.85  2602.525594   \n",
       "4          0.0   30     0.0          PB      22   48.33  2413.370909   \n",
       "...        ...  ...     ...         ...     ...     ...          ...   \n",
       "4995      10.0   31     0.0          RS      19   70.39  2502.906892   \n",
       "4996      30.0   23     1.0          RJ      18   30.07  1723.602032   \n",
       "4997      10.0   31     0.0          SP      24   49.82  2515.510292   \n",
       "4998     240.0   28     0.0          SP      25   98.49  2226.736905   \n",
       "4999      10.0   25     0.0          PB      23   39.84  1930.401477   \n",
       "\n",
       "      binary_discount  \n",
       "0                   0  \n",
       "1                   1  \n",
       "2                   0  \n",
       "3                   0  \n",
       "4                   0  \n",
       "...               ...  \n",
       "4995                0  \n",
       "4996                0  \n",
       "4997                0  \n",
       "4998                1  \n",
       "4999                0  \n",
       "\n",
       "[5000 rows x 45 columns]"
      ]
     },
     "execution_count": 38,
     "metadata": {},
     "output_type": "execute_result"
    }
   ],
   "source": [
    "test_pred['binary_discount'] = np.where(test_pred['discount'] > 30, True, False)\n",
    "test_pred = test_pred*1\n",
    "test_pred"
   ]
  },
  {
   "cell_type": "code",
   "execution_count": 39,
   "id": "33bbb4f1-0a60-4121-ae32-5fc6ff5210c7",
   "metadata": {},
   "outputs": [],
   "source": [
    "def te(df):\n",
    "    base = df[df.binary_discount == 0]\n",
    "    variant = df[df.binary_discount == 1]\n",
    "    \n",
    "    delta = variant.profit.mean() - base.profit.mean()\n",
    "    delta_err = 1.96 * np.sqrt(\n",
    "        variant.profit.var() / variant.shape[0] + \n",
    "        base.profit.var() / base.shape[0])\n",
    "    \n",
    "    return {\"estimated_effect\": delta, \"standard_error\": delta_err}\n"
   ]
  },
  {
   "cell_type": "code",
   "execution_count": 40,
   "id": "b51d2f86-1aa1-4c60-9b27-7b3236d725c0",
   "metadata": {},
   "outputs": [
    {
     "data": {
      "text/plain": [
       "{'estimated_effect': -7.955100647304356, 'standard_error': 1.1573094527748728}"
      ]
     },
     "execution_count": 40,
     "metadata": {},
     "output_type": "execute_result"
    }
   ],
   "source": [
    "# Estimate the average treatment effect on the test set.\n",
    "te(test_pred)"
   ]
  },
  {
   "cell_type": "code",
   "execution_count": 45,
   "id": "762193c4-b4b4-4e38-8a03-978381b1de29",
   "metadata": {},
   "outputs": [],
   "source": [
    "# 4.1.2\n",
    "def effect_by_segment(df, column, affected_variable):\n",
    "    df_copy = df.copy()\n",
    "    df_copy['quantile'] = pd.qcut(df_copy[column], q=10).astype(str)\n",
    "    df_copy.sort_values(by='quantile', inplace=True)\n",
    "    quantiles = list(df_copy['quantile'].unique())\n",
    "    treatment_effect = []\n",
    "    for quantile in quantiles:\n",
    "        quantile_df = df_copy[df_copy['quantile']==quantile].copy()\n",
    "        \n",
    "        # Calculate Treatment Effect\n",
    "        base = quantile_df[quantile_df['binary_discount'] == 0]\n",
    "        variant = quantile_df[quantile_df['binary_discount'] == 1]\n",
    "    \n",
    "        delta = variant[affected_variable].mean() - base[affected_variable].mean()\n",
    "        delta_err = 1.96 * np.sqrt(variant[affected_variable].var() / variant.shape[0] + base[affected_variable].var() / base.shape[0])\n",
    "        \n",
    "        #quantiles.append(quantile)\n",
    "        treatment_effect.append(delta)\n",
    "    \n",
    "    #Plot\n",
    "    plt.figure(figsize=(12, 8))\n",
    "    sns.scatterplot(quantiles, treatment_effect)\n",
    "    plt.show()"
   ]
  },
  {
   "cell_type": "code",
   "execution_count": 46,
   "id": "32c31664-75ab-48b5-a008-1aa126e133f4",
   "metadata": {},
   "outputs": [
    {
     "name": "stderr",
     "output_type": "stream",
     "text": [
      "c:\\users\\oscar\\appdata\\local\\programs\\python\\python39\\lib\\site-packages\\seaborn\\_decorators.py:36: FutureWarning: Pass the following variables as keyword args: x, y. From version 0.12, the only valid positional argument will be `data`, and passing other arguments without an explicit keyword will result in an error or misinterpretation.\n",
      "  warnings.warn(\n"
     ]
    },
    {
     "data": {
      "image/png": "[encoded data removed]",
      "text/plain": [
       "<Figure size 864x576 with 1 Axes>"
      ]
     },
     "metadata": {
      "needs_background": "light"
     },
     "output_type": "display_data"
    }
   ],
   "source": [
    "effect_by_segment(test_pred, 'age', 'profit')\n"
   ]
  },
  {
   "cell_type": "code",
   "execution_count": null,
   "id": "0c34f21b-4b27-4256-8ccd-2c49ebc0fa78",
   "metadata": {},
   "outputs": [],
   "source": [
    "test_pred"
   ]
  },
  {
   "cell_type": "code",
   "execution_count": null,
   "id": "e1767a3b-3163-41a7-8078-6c813704e642",
   "metadata": {},
   "outputs": [],
   "source": [
    "# 3.1.3\n",
    "def cumulative_effect_curve(df):\n",
    "    df.sort_values(by = ['age'])\n",
    "    \n",
    "    \n",
    "    \n",
    "    \n",
    "    base = df[df.binary_discount == 0]\n",
    "    variant = df[df.binary_discount == 1]\n",
    "    \n",
    "    delta = variant.profit.mean() - base.profit.mean()\n",
    "    delta_err = 1.96 * np.sqrt(\n",
    "        variant.profit.var() / variant.shape[0] + \n",
    "        base.profit.var() / base.shape[0])\n",
    "    \n",
    "    return {\"estimated_effect\": delta, \"standard_error\": delta_err}"
   ]
  },
  {
   "cell_type": "code",
   "execution_count": null,
   "id": "56fed176-63fc-4fdf-9925-63949db0bf32",
   "metadata": {},
   "outputs": [],
   "source": [
    "# 3.1.4\n"
   ]
  },
  {
   "cell_type": "code",
   "execution_count": null,
   "id": "a1782ccf-8e4f-4f55-be8c-cab21652d956",
   "metadata": {},
   "outputs": [],
   "source": [
    "# 4.1.1\n",
    "\n",
    "def elast_by_segment:\n",
    "    \n",
    "    \n",
    "    \n",
    "     base = df[df.binary_discount == 0]\n",
    "    variant = df[df.binary_discount == 1]\n",
    "    \n",
    "    delta = variant.profit.mean() - base.profit.mean()\n",
    "    delta_err = 1.96 * np.sqrt(\n",
    "        variant.profit.var() / variant.shape[0] + \n",
    "        base.profit.var() / base.shape[0])\n",
    "    \n",
    "    \n",
    "def elast(T,Y):\n",
    "  return (np.cov(T,Y, bias=True)[0][1]/np.var(T)) \n",
    "\n",
    "\n",
    "def effect_by_segment(df, column, affected_variable):\n",
    "    df_copy = df.copy()\n",
    "    df_copy.sort_values(by='quantile', inplace=True)\n",
    "    quantiles = list(df_copy['quantile'].unique())\n",
    "    treatment_effect = []\n",
    "    df_copy['quantile'] = pd.qcut(df_copy[column], q=10).astype(str)\n",
    "    for quantile in quantiles:\n",
    "        quantile_df = df_copy[df_copy['quantile']==quantile].copy()\n",
    "        \n",
    "        # Calculate Treatment Effect\n",
    "        base = quantile_df[quantile_df['binary_discount'] == 0]\n",
    "        variant = quantile_df[quantile_df['binary_discount'] == 1]\n",
    "    \n",
    "        delta = variant[affected_variable].mean() - base[affected_variable].mean()\n",
    "        delta_err = 1.96 * np.sqrt(variant[affected_variable].var() / variant.shape[0] + base[affected_variable].var() / base.shape[0])\n",
    "        \n",
    "        #quantiles.append(quantile)\n",
    "        treatment_effect.append(delta)\n",
    "    \n",
    "    #Plot\n",
    "    plt.figure(figsize=(12, 8))\n",
    "    sns.scatterplot(quantiles, treatment_effect)\n",
    "    plt.show()"
   ]
  },
  {
   "cell_type": "code",
   "execution_count": 47,
   "id": "7f621b55-c8fb-4841-8ce4-82e65dc1e8c9",
   "metadata": {},
   "outputs": [],
   "source": [
    "\n",
    "# 5.1.1\n",
    "\n",
    "state_sales_train = train.groupby(['cust_state'])['sales'].mean().to_dict()\n",
    "state_sales_test = test.groupby(['cust_state'])['sales'].mean().to_dict()\n",
    "\n",
    "train_remapped = train.replace({\"cust_state\": state_sales_train})\n",
    "test_remapped = test.replace({\"cust_state\": state_sales_test})\n",
    "\n",
    "\n"
   ]
  },
  {
   "cell_type": "code",
   "execution_count": 53,
   "id": "ccb91193-91e4-45ed-ac3b-afa46c87bff0",
   "metadata": {},
   "outputs": [
    {
     "name": "stdout",
     "output_type": "stream",
     "text": [
      "                            OLS Regression Results                            \n",
      "==============================================================================\n",
      "Dep. Variable:                 profit   R-squared:                       0.177\n",
      "Model:                            OLS   Adj. R-squared:                  0.177\n",
      "Method:                 Least Squares   F-statistic:                     1075.\n",
      "Date:                Sun, 24 Jul 2022   Prob (F-statistic):               0.00\n",
      "Time:                        17:55:05   Log-Likelihood:                -67084.\n",
      "No. Observations:               15000   AIC:                         1.342e+05\n",
      "Df Residuals:                   14996   BIC:                         1.342e+05\n",
      "Df Model:                           3                                         \n",
      "Covariance Type:            nonrobust                                         \n",
      "=======================================================================================\n",
      "                          coef    std err          t      P>|t|      [0.025      0.975]\n",
      "---------------------------------------------------------------------------------------\n",
      "Intercept              42.7219      0.353    120.948      0.000      42.030      43.414\n",
      "age:discount            0.0156      0.000     53.855      0.000       0.015       0.016\n",
      "tenure:discount        -0.0001      0.001     -0.155      0.877      -0.002       0.001\n",
      "cust_state:discount    -0.0002   4.77e-06    -40.421      0.000      -0.000      -0.000\n",
      "==============================================================================\n",
      "Omnibus:                    12912.935   Durbin-Watson:                   1.999\n",
      "Prob(Omnibus):                  0.000   Jarque-Bera (JB):           895499.334\n",
      "Skew:                           3.776   Prob(JB):                         0.00\n",
      "Kurtosis:                      40.091   Cond. No.                     4.60e+05\n",
      "==============================================================================\n",
      "\n",
      "Notes:\n",
      "[1] Standard Errors assume that the covariance matrix of the errors is correctly specified.\n",
      "[2] The condition number is large, 4.6e+05. This might indicate that there are\n",
      "strong multicollinearity or other numerical problems.\n"
     ]
    }
   ],
   "source": [
    "mod = smf.ols(formula='profit ~ age:discount + tenure:discount + cust_state:discount', data=train_remapped)\n",
    "res = mod.fit()\n",
    "print(res.summary())"
   ]
  },
  {
   "cell_type": "code",
   "execution_count": 56,
   "id": "e1962023-43a2-4b58-a4eb-92597c219170",
   "metadata": {},
   "outputs": [],
   "source": [
    "test_remapped['discount-1'] = test_remapped['discount'] - 1"
   ]
  },
  {
   "cell_type": "code",
   "execution_count": 57,
   "id": "33be8b4d-c863-4c1f-acb4-20f94d44905d",
   "metadata": {},
   "outputs": [],
   "source": [
    "te = res.predict(test_remapped[['tenure', 'age', 'cust_state', 'discount']]) - \\\n",
    "res.predict(test_remapped[['tenure', 'age', 'cust_state', 'discount-1']].rename(columns={'discount-1':'discount'}))"
   ]
  },
  {
   "cell_type": "code",
   "execution_count": 58,
   "id": "c9eb6604-7d5f-432b-a798-e6ac231ebddb",
   "metadata": {},
   "outputs": [
    {
     "data": {
      "text/plain": [
       "0       0.182857\n",
       "1       0.090679\n",
       "2       0.113619\n",
       "3       0.138872\n",
       "4       0.113989\n",
       "          ...   \n",
       "4995    0.138531\n",
       "4996    0.004576\n",
       "4997    0.107286\n",
       "4998    0.060324\n",
       "4999    0.035802\n",
       "Length: 5000, dtype: float64"
      ]
     },
     "execution_count": 58,
     "metadata": {},
     "output_type": "execute_result"
    }
   ],
   "source": [
    "te"
   ]
  }
 ],
 "metadata": {
  "kernelspec": {
   "display_name": "Python 3 (ipykernel)",
   "language": "python",
   "name": "python3"
  },
  "language_info": {
   "codemirror_mode": {
    "name": "ipython",
    "version": 3
   },
   "file_extension": ".py",
   "mimetype": "text/x-python",
   "name": "python",
   "nbconvert_exporter": "python",
   "pygments_lexer": "ipython3",
   "version": "3.9.0"
  }
 },
 "nbformat": 4,
 "nbformat_minor": 5
}
