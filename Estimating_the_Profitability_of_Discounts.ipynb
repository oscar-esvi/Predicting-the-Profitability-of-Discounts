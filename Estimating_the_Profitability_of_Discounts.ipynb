{
 "cells": [
  {
   "cell_type": "code",
   "execution_count": 1,
   "metadata": {
    "id": "zz0h_Y3DMgh0"
   },
   "outputs": [
    {
     "ename": "ModuleNotFoundError",
     "evalue": "No module named 'pandas'",
     "output_type": "error",
     "traceback": [
      "\u001b[1;31m---------------------------------------------------------------------------\u001b[0m",
      "\u001b[1;31mModuleNotFoundError\u001b[0m                       Traceback (most recent call last)",
      "Input \u001b[1;32mIn [1]\u001b[0m, in \u001b[0;36m<cell line: 1>\u001b[1;34m()\u001b[0m\n\u001b[1;32m----> 1\u001b[0m \u001b[38;5;28;01mimport\u001b[39;00m \u001b[38;5;21;01mpandas\u001b[39;00m \u001b[38;5;28;01mas\u001b[39;00m \u001b[38;5;21;01mpd\u001b[39;00m\n\u001b[0;32m      2\u001b[0m \u001b[38;5;28;01mimport\u001b[39;00m \u001b[38;5;21;01mnumpy\u001b[39;00m \u001b[38;5;28;01mas\u001b[39;00m \u001b[38;5;21;01mnp\u001b[39;00m\n\u001b[0;32m      3\u001b[0m \u001b[38;5;28;01mimport\u001b[39;00m \u001b[38;5;21;01mseaborn\u001b[39;00m \u001b[38;5;28;01mas\u001b[39;00m \u001b[38;5;21;01msns\u001b[39;00m\n",
      "\u001b[1;31mModuleNotFoundError\u001b[0m: No module named 'pandas'"
     ]
    }
   ],
   "source": [
    "import pandas as pd\n",
    "import numpy as np\n",
    "import seaborn as sns\n",
    "sns.set()\n",
    "\n",
    "df = pd.read_csv(\"/non_rand_discount.csv\",sep=\";\")"
   ]
  },
  {
   "cell_type": "code",
   "execution_count": null,
   "metadata": {
    "colab": {
     "base_uri": "https://localhost:8080/"
    },
    "id": "AvdshOgGdw4l",
    "outputId": "9278bd3d-4829-4904-8247-88e4649a9b79"
   },
   "outputs": [],
   "source": [
    "# df.describe()\n",
    "df.info()"
   ]
  },
  {
   "cell_type": "code",
   "execution_count": null,
   "metadata": {
    "colab": {
     "base_uri": "https://localhost:8080/"
    },
    "id": "yRNC7vO2nug0",
    "outputId": "ccdb65e8-d185-4382-e592-3f57be80d7c7"
   },
   "outputs": [],
   "source": [
    "df.discount"
   ]
  },
  {
   "cell_type": "code",
   "execution_count": null,
   "metadata": {
    "id": "jkRle9ben_DX"
   },
   "outputs": [],
   "source": [
    "# defining a function that replaces US$ for nothing in order to get rid of the non-numerical values\n",
    "def remove_symbols(discount):\n",
    "  return float(discount.replace('US$ ', '')) "
   ]
  },
  {
   "cell_type": "code",
   "execution_count": null,
   "metadata": {
    "colab": {
     "base_uri": "https://localhost:8080/"
    },
    "id": "u8-HInpUop4w",
    "outputId": "954d4380-a6b3-4c46-9ee6-574cc9f9bcfa"
   },
   "outputs": [],
   "source": [
    "remove_symbols(\"US$ 110.0\")"
   ]
  },
  {
   "cell_type": "code",
   "execution_count": null,
   "metadata": {
    "id": "tWhTXwDopC8D"
   },
   "outputs": [],
   "source": [
    "df.discount = df.discount.apply(remove_symbols)\n"
   ]
  },
  {
   "cell_type": "code",
   "execution_count": null,
   "metadata": {
    "colab": {
     "base_uri": "https://localhost:8080/",
     "height": 206
    },
    "id": "gvI4MQR7VMMl",
    "outputId": "3320830f-8071-427b-bda5-4c05bf92b629"
   },
   "outputs": [],
   "source": [
    "df2 = df[['sales','discount','profit','age','cust_state','tenure','sales_prediction_bins','sales_prediction']]\n",
    "df2.head()"
   ]
  },
  {
   "cell_type": "code",
   "execution_count": null,
   "metadata": {
    "colab": {
     "base_uri": "https://localhost:8080/",
     "height": 382
    },
    "id": "4sJNACnTvzoW",
    "outputId": "4fca0921-fd9f-4363-ef65-231606cb3abe"
   },
   "outputs": [],
   "source": [
    "# relationship between discount and sales\n",
    "sns.lmplot(x=\"discount\", y=\"sales\", data=df)"
   ]
  },
  {
   "cell_type": "code",
   "execution_count": null,
   "metadata": {
    "colab": {
     "base_uri": "https://localhost:8080/",
     "height": 382
    },
    "id": "_0s4mKDBwWaC",
    "outputId": "7038c91a-0f25-4c55-e63a-83347d2c0481"
   },
   "outputs": [],
   "source": [
    "# relationship between discount and profits \n",
    "sns.lmplot(x=\"discount\", y=\"profit\", data=df)"
   ]
  },
  {
   "cell_type": "code",
   "execution_count": null,
   "metadata": {
    "colab": {
     "base_uri": "https://localhost:8080/",
     "height": 382
    },
    "id": "iEFSU5zBx102",
    "outputId": "01156bf6-5250-4067-a551-e70b82d9d3d5"
   },
   "outputs": [],
   "source": [
    "# relationship between age and discount\n",
    "sns.lmplot(x=\"discount\", y=\"age\", data=df)"
   ]
  },
  {
   "cell_type": "code",
   "execution_count": null,
   "metadata": {
    "colab": {
     "base_uri": "https://localhost:8080/",
     "height": 382
    },
    "id": "E8n6A51KyEGp",
    "outputId": "4fb98d8a-5eaa-4596-f0ae-86b2184d4411"
   },
   "outputs": [],
   "source": [
    "# relationship between sales prediction and discount\n",
    "sns.lmplot(x=\"discount\", y=\"sales_prediction\", data=df)"
   ]
  },
  {
   "cell_type": "code",
   "execution_count": null,
   "metadata": {
    "colab": {
     "base_uri": "https://localhost:8080/",
     "height": 382
    },
    "id": "iM8f8nAzyLf-",
    "outputId": "f7bf0661-a54b-4751-b82c-50c807846e7b"
   },
   "outputs": [],
   "source": [
    "# relationship between tenure and discount\n",
    "sns.lmplot(x=\"discount\", y=\"tenure\", data=df)\n"
   ]
  },
  {
   "cell_type": "code",
   "execution_count": null,
   "metadata": {
    "colab": {
     "base_uri": "https://localhost:8080/",
     "height": 382
    },
    "id": "m_3tZ5BA0cJe",
    "outputId": "4380c9f1-a01e-48ea-ef08-83f38bdc1039"
   },
   "outputs": [],
   "source": [
    "# This is not correct?\n",
    "# I chose lmplot since it gives you a scatterplot with a linear regresion applied to it, which makes it easier to interpret the data\n",
    "sns.lmplot(x=\"discount\", y=\"sales_prediction_bins\", data=df)"
   ]
  },
  {
   "cell_type": "code",
   "execution_count": null,
   "metadata": {
    "colab": {
     "base_uri": "https://localhost:8080/",
     "height": 1000
    },
    "id": "ZsUZZUEBU_aY",
    "outputId": "69056778-18c1-4121-c46b-32a82301cf7a"
   },
   "outputs": [],
   "source": [
    "# Interesting comparison between df2 parameters and discount\n",
    "sns.pairplot(df2, hue='discount')"
   ]
  },
  {
   "cell_type": "code",
   "execution_count": null,
   "metadata": {
    "id": "WVKL9h_VW5aV"
   },
   "outputs": [],
   "source": []
  },
  {
   "cell_type": "code",
   "execution_count": null,
   "metadata": {},
   "outputs": [],
   "source": []
  }
 ],
 "metadata": {
  "colab": {
   "name": "Estimating the Profitability of Discounts",
   "provenance": []
  },
  "kernelspec": {
   "display_name": "Python 3 (ipykernel)",
   "language": "python",
   "name": "python3"
  },
  "language_info": {
   "codemirror_mode": {
    "name": "ipython",
    "version": 3
   },
   "file_extension": ".py",
   "mimetype": "text/x-python",
   "name": "python",
   "nbconvert_exporter": "python",
   "pygments_lexer": "ipython3",
   "version": "3.9.0"
  }
 },
 "nbformat": 4,
 "nbformat_minor": 4
}
